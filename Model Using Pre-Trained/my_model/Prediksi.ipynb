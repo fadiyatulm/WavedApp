{
 "cells": [
  {
   "cell_type": "code",
   "execution_count": 4,
   "id": "e2868188",
   "metadata": {},
   "outputs": [],
   "source": [
    "import tensorflow as tf\n",
    "from tensorflow.keras.models import load_model\n",
    "import numpy as np\n",
    "from tensorflow.keras.preprocessing import image"
   ]
  },
  {
   "cell_type": "code",
   "execution_count": 22,
   "id": "6bc3dbd2",
   "metadata": {},
   "outputs": [
    {
     "name": "stdout",
     "output_type": "stream",
     "text": [
      "WARNING:tensorflow:No training configuration found in the save file, so the model was *not* compiled. Compile it manually.\n",
      "1/1 [==============================] - 1s 740ms/step\n",
      "Hasil prediksi: ['2 C']\n"
     ]
    }
   ],
   "source": [
    "model = load_model('model.h5')\n",
    "\n",
    "# Baca file label.txt\n",
    "with open('labels.txt', 'r') as file:\n",
    "    daftar_label = file.read().splitlines()\n",
    "\n",
    "# Persiapkan data prediksi\n",
    "img = image.load_img('IMG_1312.jpg', target_size=(224, 224))\n",
    "img_array = image.img_to_array(img)\n",
    "data_prediksi = np.expand_dims(img_array, axis=0)\n",
    "\n",
    "# Lakukan prediksi\n",
    "prediksi = model.predict(data_prediksi)\n",
    "\n",
    "# Ambil indeks kelas dengan probabilitas tertinggi\n",
    "indeks_kelas = np.argmax(prediksi, axis=1)\n",
    "\n",
    "# Ambil label yang sesuai dengan indeks kelas\n",
    "label_prediksi = [daftar_label[i] for i in indeks_kelas]\n",
    "\n",
    "# Tampilkan hasil prediksi\n",
    "print(\"Hasil prediksi:\", label_prediksi)"
   ]
  },
  {
   "cell_type": "code",
   "execution_count": null,
   "id": "96e645e5",
   "metadata": {},
   "outputs": [],
   "source": []
  }
 ],
 "metadata": {
  "kernelspec": {
   "display_name": "Python 3 (ipykernel)",
   "language": "python",
   "name": "python3"
  },
  "language_info": {
   "codemirror_mode": {
    "name": "ipython",
    "version": 3
   },
   "file_extension": ".py",
   "mimetype": "text/x-python",
   "name": "python",
   "nbconvert_exporter": "python",
   "pygments_lexer": "ipython3",
   "version": "3.9.7"
  }
 },
 "nbformat": 4,
 "nbformat_minor": 5
}
